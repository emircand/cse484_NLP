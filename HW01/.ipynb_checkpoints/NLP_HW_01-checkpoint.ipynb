{
  "nbformat": 4,
  "nbformat_minor": 0,
  "metadata": {
    "colab": {
      "provenance": []
    },
    "kernelspec": {
      "name": "python3",
      "display_name": "Python 3"
    },
    "language_info": {
      "name": "python"
    }
  },
  "cells": [
    {
      "cell_type": "code",
      "execution_count": 8,
      "metadata": {
        "colab": {
          "base_uri": "https://localhost:8080/"
        },
        "id": "cDO6S7GhhQYZ",
        "outputId": "68c2c129-0693-446c-b34a-baf4c4b59c26"
      },
      "outputs": [
        {
          "output_type": "stream",
          "name": "stdout",
          "text": [
            "Reading package lists... Done\n",
            "Building dependency tree... Done\n",
            "Reading state information... Done\n",
            "graphviz is already the newest version (2.42.2-6).\n",
            "0 upgraded, 0 newly installed, 0 to remove and 9 not upgraded.\n",
            "Requirement already satisfied: graphviz in /usr/local/lib/python3.10/dist-packages (0.20.1)\n"
          ]
        }
      ],
      "source": [
        "!apt-get install graphviz -y\n",
        "!pip install graphviz"
      ]
    },
    {
      "cell_type": "code",
      "source": [
        "import graphviz\n",
        "from IPython.display import Image"
      ],
      "metadata": {
        "id": "6vcvCuFiLynV"
      },
      "execution_count": 31,
      "outputs": []
    },
    {
      "cell_type": "code",
      "source": [
        "def create_plural_fst():\n",
        "  # Create a directed graph using Graphviz\n",
        "  fst = graphviz.Digraph('FST', format='png')\n",
        "\n",
        "  # Define attributes for the graph, nodes, and edges\n",
        "  fst.attr('node', shape='circle')\n",
        "\n",
        "  # Add states to the FST\n",
        "  fst.node('0', 'Nominal Root', shape='ellipse')\n",
        "  fst.node('1', 'Last Vowel is [e, i, ö, ü]', shape='ellipse')\n",
        "  fst.node('2', 'Last Vowel is [a, ı, o, u]', shape='ellipse')\n",
        "  fst.node('3', '+ler', shape='doublecircle')\n",
        "  fst.node('4', '+lar', shape='doublecircle')\n",
        "  fst.node('5', 'END', shape='doublecircle')\n",
        "\n",
        "  # Add transitions to the FST\n",
        "  fst.edge('0', '1', label='Front Vowel\\n(e, i, ö, ü)')\n",
        "  fst.edge('0', '2', label='Back Vowel\\n(a, ı, o, u)')\n",
        "  fst.edge('1', '3', label='Transition to \"ler\"')\n",
        "  fst.edge('2', '4', label='Transition to \"lar\"')\n",
        "  fst.edge('3', '5', label='[EOS]')\n",
        "  fst.edge('4', '5', label='[EOS]')\n",
        "\n",
        "  return fst"
      ],
      "metadata": {
        "id": "NaEXFttAB64Z"
      },
      "execution_count": 42,
      "outputs": []
    },
    {
      "cell_type": "code",
      "source": [
        "# Function to create a basic FST for possessive suffix in Turkish\n",
        "def create_possessive_fst():\n",
        "    g = graphviz.Digraph('FST')\n",
        "\n",
        "    # Define states\n",
        "    g.node('0', 'Nominal Root', shape='ellipse')\n",
        "    g.node('V', 'Ends with Vowel', shape='ellipse')\n",
        "    g.node('C', 'Ends with Consonant', shape='ellipse')\n",
        "    g.node('S', 'Softening Applied', shape='ellipse')\n",
        "    g.node('FVH', 'Front Vowel Harmony', shape='ellipse')\n",
        "    g.node('BVH', 'Back Vowel Harmony', shape='ellipse')\n",
        "    g.node('PS', 'Apply Possessive Suffix', shape='doublecircle')\n",
        "    g.node('END', 'END', shape='doublecircle')\n",
        "\n",
        "    # Define transitions\n",
        "    g.edge('0', 'V', label='Vowel End')\n",
        "    g.edge('0', 'C', label='Consonant End')\n",
        "    g.edge('C', 'S', label='Softening')\n",
        "    g.edge('S', 'FVH', label='To FVH')\n",
        "    g.edge('S', 'BVH', label='To BVH')\n",
        "    g.edge('V', 'FVH', label='To FVH')\n",
        "    g.edge('V', 'BVH', label='To BVH')\n",
        "    g.edge('FVH', 'PS', label='Apply Suffix')\n",
        "    g.edge('BVH', 'PS', label='Apply Suffix')\n",
        "    g.edge('PS', 'END', label='[EOS]')\n",
        "\n",
        "    # Add a note for suffix details\n",
        "    g.attr('node', shape='plaintext')\n",
        "    g.node('note', 'Note: Suffixes vary based on person and plurality')\n",
        "\n",
        "    return g"
      ],
      "metadata": {
        "id": "yYZ8GTErCrzn"
      },
      "execution_count": 72,
      "outputs": []
    },
    {
      "cell_type": "code",
      "source": [
        "# Create and display the FSTs\n",
        "plural_fst = create_plural_fst()\n",
        "possessive_fst = create_possessive_fst()"
      ],
      "metadata": {
        "id": "6zqJ9SfOyZ1v"
      },
      "execution_count": 73,
      "outputs": []
    },
    {
      "cell_type": "code",
      "source": [
        "# Display FST of the plural suffix rule\n",
        "graphviz.Source(plural_fst.source)"
      ],
      "metadata": {
        "colab": {
          "base_uri": "https://localhost:8080/",
          "height": 517
        },
        "id": "dkoSMEy-z66_",
        "outputId": "a02841b5-bb93-495c-d8eb-88795645d455"
      },
      "execution_count": 44,
      "outputs": [
        {
          "output_type": "execute_result",
          "data": {
            "image/svg+xml": "<?xml version=\"1.0\" encoding=\"UTF-8\" standalone=\"no\"?>\n<!DOCTYPE svg PUBLIC \"-//W3C//DTD SVG 1.1//EN\"\n \"http://www.w3.org/Graphics/SVG/1.1/DTD/svg11.dtd\">\n<!-- Generated by graphviz version 2.43.0 (0)\n -->\n<!-- Title: FST Pages: 1 -->\n<svg width=\"414pt\" height=\"372pt\"\n viewBox=\"0.00 0.00 413.68 371.89\" xmlns=\"http://www.w3.org/2000/svg\" xmlns:xlink=\"http://www.w3.org/1999/xlink\">\n<g id=\"graph0\" class=\"graph\" transform=\"scale(1 1) rotate(0) translate(4 367.89)\">\n<title>FST</title>\n<polygon fill=\"white\" stroke=\"transparent\" points=\"-4,4 -4,-367.89 409.68,-367.89 409.68,4 -4,4\"/>\n<!-- 0 -->\n<g id=\"node1\" class=\"node\">\n<title>0</title>\n<ellipse fill=\"none\" stroke=\"black\" cx=\"202.84\" cy=\"-345.89\" rx=\"61.99\" ry=\"18\"/>\n<text text-anchor=\"middle\" x=\"202.84\" y=\"-342.19\" font-family=\"Times,serif\" font-size=\"14.00\">Nominal Root</text>\n</g>\n<!-- 1 -->\n<g id=\"node2\" class=\"node\">\n<title>1</title>\n<ellipse fill=\"none\" stroke=\"black\" cx=\"96.84\" cy=\"-243.89\" rx=\"96.68\" ry=\"18\"/>\n<text text-anchor=\"middle\" x=\"96.84\" y=\"-240.19\" font-family=\"Times,serif\" font-size=\"14.00\">Last Vowel is [e, i, ö, ü]</text>\n</g>\n<!-- 0&#45;&gt;1 -->\n<g id=\"edge1\" class=\"edge\">\n<title>0&#45;&gt;1</title>\n<path fill=\"none\" stroke=\"black\" d=\"M185.34,-328.38C168.1,-312.12 141.6,-287.12 122.09,-268.71\"/>\n<polygon fill=\"black\" stroke=\"black\" points=\"124.4,-266.08 114.73,-261.76 119.6,-271.17 124.4,-266.08\"/>\n<text text-anchor=\"middle\" x=\"199.34\" y=\"-298.69\" font-family=\"Times,serif\" font-size=\"14.00\">Front Vowel</text>\n<text text-anchor=\"middle\" x=\"199.34\" y=\"-283.69\" font-family=\"Times,serif\" font-size=\"14.00\">(e, i, ö, ü)</text>\n</g>\n<!-- 2 -->\n<g id=\"node3\" class=\"node\">\n<title>2</title>\n<ellipse fill=\"none\" stroke=\"black\" cx=\"308.84\" cy=\"-243.89\" rx=\"96.68\" ry=\"18\"/>\n<text text-anchor=\"middle\" x=\"308.84\" y=\"-240.19\" font-family=\"Times,serif\" font-size=\"14.00\">Last Vowel is [a, ı, o, u]</text>\n</g>\n<!-- 0&#45;&gt;2 -->\n<g id=\"edge2\" class=\"edge\">\n<title>0&#45;&gt;2</title>\n<path fill=\"none\" stroke=\"black\" d=\"M220.35,-328.38C237.58,-312.12 264.08,-287.12 283.59,-268.71\"/>\n<polygon fill=\"black\" stroke=\"black\" points=\"286.09,-271.17 290.96,-261.76 281.28,-266.08 286.09,-271.17\"/>\n<text text-anchor=\"middle\" x=\"304.84\" y=\"-298.69\" font-family=\"Times,serif\" font-size=\"14.00\">Back Vowel</text>\n<text text-anchor=\"middle\" x=\"304.84\" y=\"-283.69\" font-family=\"Times,serif\" font-size=\"14.00\">(a, ı, o, u)</text>\n</g>\n<!-- 3 -->\n<g id=\"node4\" class=\"node\">\n<title>3</title>\n<ellipse fill=\"none\" stroke=\"black\" cx=\"163.84\" cy=\"-145.54\" rx=\"25.22\" ry=\"25.22\"/>\n<ellipse fill=\"none\" stroke=\"black\" cx=\"163.84\" cy=\"-145.54\" rx=\"29.2\" ry=\"29.2\"/>\n<text text-anchor=\"middle\" x=\"163.84\" y=\"-141.84\" font-family=\"Times,serif\" font-size=\"14.00\">+ler</text>\n</g>\n<!-- 1&#45;&gt;3 -->\n<g id=\"edge3\" class=\"edge\">\n<title>1&#45;&gt;3</title>\n<path fill=\"none\" stroke=\"black\" d=\"M108.82,-225.67C117.9,-212.6 130.65,-194.28 141.58,-178.55\"/>\n<polygon fill=\"black\" stroke=\"black\" points=\"144.6,-180.34 147.44,-170.13 138.85,-176.34 144.6,-180.34\"/>\n<text text-anchor=\"middle\" x=\"180.84\" y=\"-196.69\" font-family=\"Times,serif\" font-size=\"14.00\">Transition to &quot;ler&quot;</text>\n</g>\n<!-- 4 -->\n<g id=\"node5\" class=\"node\">\n<title>4</title>\n<ellipse fill=\"none\" stroke=\"black\" cx=\"262.84\" cy=\"-145.54\" rx=\"25.22\" ry=\"25.22\"/>\n<ellipse fill=\"none\" stroke=\"black\" cx=\"262.84\" cy=\"-145.54\" rx=\"29.2\" ry=\"29.2\"/>\n<text text-anchor=\"middle\" x=\"262.84\" y=\"-141.84\" font-family=\"Times,serif\" font-size=\"14.00\">+lar</text>\n</g>\n<!-- 2&#45;&gt;4 -->\n<g id=\"edge4\" class=\"edge\">\n<title>2&#45;&gt;4</title>\n<path fill=\"none\" stroke=\"black\" d=\"M300.62,-225.67C294.75,-213.38 286.67,-196.45 279.48,-181.4\"/>\n<polygon fill=\"black\" stroke=\"black\" points=\"282.62,-179.84 275.15,-172.32 276.3,-182.86 282.62,-179.84\"/>\n<text text-anchor=\"middle\" x=\"341.84\" y=\"-196.69\" font-family=\"Times,serif\" font-size=\"14.00\">Transition to &quot;lar&quot;</text>\n</g>\n<!-- 5 -->\n<g id=\"node6\" class=\"node\">\n<title>5</title>\n<ellipse fill=\"none\" stroke=\"black\" cx=\"201.84\" cy=\"-32.6\" rx=\"28.68\" ry=\"28.68\"/>\n<ellipse fill=\"none\" stroke=\"black\" cx=\"201.84\" cy=\"-32.6\" rx=\"32.7\" ry=\"32.7\"/>\n<text text-anchor=\"middle\" x=\"201.84\" y=\"-28.9\" font-family=\"Times,serif\" font-size=\"14.00\">END</text>\n</g>\n<!-- 3&#45;&gt;5 -->\n<g id=\"edge5\" class=\"edge\">\n<title>3&#45;&gt;5</title>\n<path fill=\"none\" stroke=\"black\" d=\"M173.14,-117.4C177.67,-104.16 183.21,-87.98 188.22,-73.38\"/>\n<polygon fill=\"black\" stroke=\"black\" points=\"191.64,-74.17 191.57,-63.58 185.02,-71.9 191.64,-74.17\"/>\n<text text-anchor=\"middle\" x=\"202.34\" y=\"-86.99\" font-family=\"Times,serif\" font-size=\"14.00\">[EOS]</text>\n</g>\n<!-- 4&#45;&gt;5 -->\n<g id=\"edge6\" class=\"edge\">\n<title>4&#45;&gt;5</title>\n<path fill=\"none\" stroke=\"black\" d=\"M249,-119.37C241.07,-104.94 230.96,-86.56 222.14,-70.52\"/>\n<polygon fill=\"black\" stroke=\"black\" points=\"225.01,-68.48 217.13,-61.4 218.88,-71.85 225.01,-68.48\"/>\n<text text-anchor=\"middle\" x=\"254.34\" y=\"-86.99\" font-family=\"Times,serif\" font-size=\"14.00\">[EOS]</text>\n</g>\n</g>\n</svg>\n",
            "text/plain": [
              "<graphviz.sources.Source at 0x7eb3e307ece0>"
            ]
          },
          "metadata": {},
          "execution_count": 44
        }
      ]
    },
    {
      "cell_type": "code",
      "source": [
        "# Display FST of the possessive suffix rule\n",
        "graphviz.Source(possessive_fst.source)"
      ],
      "metadata": {
        "colab": {
          "base_uri": "https://localhost:8080/",
          "height": 920
        },
        "id": "Y8fUkVljz_tB",
        "outputId": "5966876c-9355-400f-a791-4e8cf1dc99d7"
      },
      "execution_count": 74,
      "outputs": [
        {
          "output_type": "execute_result",
          "data": {
            "image/svg+xml": "<?xml version=\"1.0\" encoding=\"UTF-8\" standalone=\"no\"?>\n<!DOCTYPE svg PUBLIC \"-//W3C//DTD SVG 1.1//EN\"\n \"http://www.w3.org/Graphics/SVG/1.1/DTD/svg11.dtd\">\n<!-- Generated by graphviz version 2.43.0 (0)\n -->\n<!-- Title: FST Pages: 1 -->\n<svg width=\"530pt\" height=\"674pt\"\n viewBox=\"0.00 0.00 529.84 673.88\" xmlns=\"http://www.w3.org/2000/svg\" xmlns:xlink=\"http://www.w3.org/1999/xlink\">\n<g id=\"graph0\" class=\"graph\" transform=\"scale(1 1) rotate(0) translate(4 669.88)\">\n<title>FST</title>\n<polygon fill=\"white\" stroke=\"transparent\" points=\"-4,4 -4,-669.88 525.84,-669.88 525.84,4 -4,4\"/>\n<!-- 0 -->\n<g id=\"node1\" class=\"node\">\n<title>0</title>\n<ellipse fill=\"none\" stroke=\"black\" cx=\"155.34\" cy=\"-647.88\" rx=\"61.99\" ry=\"18\"/>\n<text text-anchor=\"middle\" x=\"155.34\" y=\"-644.18\" font-family=\"Times,serif\" font-size=\"14.00\">Nominal Root</text>\n</g>\n<!-- V -->\n<g id=\"node2\" class=\"node\">\n<title>V</title>\n<ellipse fill=\"none\" stroke=\"black\" cx=\"106.34\" cy=\"-473.88\" rx=\"70.69\" ry=\"18\"/>\n<text text-anchor=\"middle\" x=\"106.34\" y=\"-470.18\" font-family=\"Times,serif\" font-size=\"14.00\">Ends with Vowel</text>\n</g>\n<!-- 0&#45;&gt;V -->\n<g id=\"edge1\" class=\"edge\">\n<title>0&#45;&gt;V</title>\n<path fill=\"none\" stroke=\"black\" d=\"M142.52,-630.01C133.25,-616.83 121.34,-597.67 115.34,-578.88 107.32,-553.74 105.51,-523.55 105.44,-502.19\"/>\n<polygon fill=\"black\" stroke=\"black\" points=\"108.94,-501.93 105.54,-491.9 101.95,-501.86 108.94,-501.93\"/>\n<text text-anchor=\"middle\" x=\"145.84\" y=\"-557.18\" font-family=\"Times,serif\" font-size=\"14.00\">Vowel End</text>\n</g>\n<!-- C -->\n<g id=\"node3\" class=\"node\">\n<title>C</title>\n<ellipse fill=\"none\" stroke=\"black\" cx=\"271.34\" cy=\"-560.88\" rx=\"86.38\" ry=\"18\"/>\n<text text-anchor=\"middle\" x=\"271.34\" y=\"-557.18\" font-family=\"Times,serif\" font-size=\"14.00\">Ends with Consonant</text>\n</g>\n<!-- 0&#45;&gt;C -->\n<g id=\"edge2\" class=\"edge\">\n<title>0&#45;&gt;C</title>\n<path fill=\"none\" stroke=\"black\" d=\"M177.16,-630.89C195.08,-617.76 220.66,-599.01 240.65,-584.37\"/>\n<polygon fill=\"black\" stroke=\"black\" points=\"242.83,-587.11 248.83,-578.37 238.69,-581.46 242.83,-587.11\"/>\n<text text-anchor=\"middle\" x=\"261.34\" y=\"-600.68\" font-family=\"Times,serif\" font-size=\"14.00\">Consonant End</text>\n</g>\n<!-- FVH -->\n<g id=\"node5\" class=\"node\">\n<title>FVH</title>\n<ellipse fill=\"none\" stroke=\"black\" cx=\"90.34\" cy=\"-386.88\" rx=\"90.18\" ry=\"18\"/>\n<text text-anchor=\"middle\" x=\"90.34\" y=\"-383.18\" font-family=\"Times,serif\" font-size=\"14.00\">Front Vowel Harmony</text>\n</g>\n<!-- V&#45;&gt;FVH -->\n<g id=\"edge6\" class=\"edge\">\n<title>V&#45;&gt;FVH</title>\n<path fill=\"none\" stroke=\"black\" d=\"M94.27,-455.85C91.04,-450.37 87.99,-444.1 86.34,-437.88 84.43,-430.67 84.24,-422.69 84.84,-415.26\"/>\n<polygon fill=\"black\" stroke=\"black\" points=\"88.32,-415.62 86.12,-405.26 81.38,-414.74 88.32,-415.62\"/>\n<text text-anchor=\"middle\" x=\"109.34\" y=\"-426.68\" font-family=\"Times,serif\" font-size=\"14.00\">To FVH</text>\n</g>\n<!-- BVH -->\n<g id=\"node6\" class=\"node\">\n<title>BVH</title>\n<ellipse fill=\"none\" stroke=\"black\" cx=\"287.34\" cy=\"-386.88\" rx=\"89.08\" ry=\"18\"/>\n<text text-anchor=\"middle\" x=\"287.34\" y=\"-383.18\" font-family=\"Times,serif\" font-size=\"14.00\">Back Vowel Harmony</text>\n</g>\n<!-- V&#45;&gt;BVH -->\n<g id=\"edge7\" class=\"edge\">\n<title>V&#45;&gt;BVH</title>\n<path fill=\"none\" stroke=\"black\" d=\"M117.78,-455.65C125.91,-444.71 137.76,-431.11 151.34,-422.88 168.03,-412.76 187.58,-405.55 206.57,-400.41\"/>\n<polygon fill=\"black\" stroke=\"black\" points=\"207.6,-403.77 216.43,-397.91 205.88,-396.98 207.6,-403.77\"/>\n<text text-anchor=\"middle\" x=\"174.84\" y=\"-426.68\" font-family=\"Times,serif\" font-size=\"14.00\">To BVH</text>\n</g>\n<!-- S -->\n<g id=\"node4\" class=\"node\">\n<title>S</title>\n<ellipse fill=\"none\" stroke=\"black\" cx=\"271.34\" cy=\"-473.88\" rx=\"75.29\" ry=\"18\"/>\n<text text-anchor=\"middle\" x=\"271.34\" y=\"-470.18\" font-family=\"Times,serif\" font-size=\"14.00\">Softening Applied</text>\n</g>\n<!-- C&#45;&gt;S -->\n<g id=\"edge3\" class=\"edge\">\n<title>C&#45;&gt;S</title>\n<path fill=\"none\" stroke=\"black\" d=\"M271.34,-542.68C271.34,-531.04 271.34,-515.43 271.34,-502.11\"/>\n<polygon fill=\"black\" stroke=\"black\" points=\"274.84,-502.05 271.34,-492.05 267.84,-502.05 274.84,-502.05\"/>\n<text text-anchor=\"middle\" x=\"297.84\" y=\"-513.68\" font-family=\"Times,serif\" font-size=\"14.00\">Softening</text>\n</g>\n<!-- S&#45;&gt;FVH -->\n<g id=\"edge4\" class=\"edge\">\n<title>S&#45;&gt;FVH</title>\n<path fill=\"none\" stroke=\"black\" d=\"M252.22,-456.4C238.94,-445.65 220.46,-431.97 202.34,-422.88 187.56,-415.46 170.9,-409.23 155.03,-404.18\"/>\n<polygon fill=\"black\" stroke=\"black\" points=\"155.86,-400.78 145.28,-401.19 153.81,-407.47 155.86,-400.78\"/>\n<text text-anchor=\"middle\" x=\"249.34\" y=\"-426.68\" font-family=\"Times,serif\" font-size=\"14.00\">To FVH</text>\n</g>\n<!-- S&#45;&gt;BVH -->\n<g id=\"edge5\" class=\"edge\">\n<title>S&#45;&gt;BVH</title>\n<path fill=\"none\" stroke=\"black\" d=\"M274.58,-455.68C276.77,-444.04 279.71,-428.43 282.22,-415.11\"/>\n<polygon fill=\"black\" stroke=\"black\" points=\"285.7,-415.53 284.11,-405.05 278.82,-414.23 285.7,-415.53\"/>\n<text text-anchor=\"middle\" x=\"302.84\" y=\"-426.68\" font-family=\"Times,serif\" font-size=\"14.00\">To BVH</text>\n</g>\n<!-- PS -->\n<g id=\"node7\" class=\"node\">\n<title>PS</title>\n<ellipse fill=\"none\" stroke=\"black\" cx=\"188.34\" cy=\"-217.04\" rx=\"96.69\" ry=\"96.69\"/>\n<ellipse fill=\"none\" stroke=\"black\" cx=\"188.34\" cy=\"-217.04\" rx=\"100.68\" ry=\"100.68\"/>\n<text text-anchor=\"middle\" x=\"188.34\" y=\"-213.34\" font-family=\"Times,serif\" font-size=\"14.00\">Apply Possessive Suffix</text>\n</g>\n<!-- FVH&#45;&gt;PS -->\n<g id=\"edge8\" class=\"edge\">\n<title>FVH&#45;&gt;PS</title>\n<path fill=\"none\" stroke=\"black\" d=\"M100.28,-368.86C108.23,-355.24 120.09,-334.94 132.54,-313.61\"/>\n<polygon fill=\"black\" stroke=\"black\" points=\"135.69,-315.16 137.71,-304.76 129.64,-311.63 135.69,-315.16\"/>\n<text text-anchor=\"middle\" x=\"155.34\" y=\"-339.68\" font-family=\"Times,serif\" font-size=\"14.00\">Apply Suffix</text>\n</g>\n<!-- BVH&#45;&gt;PS -->\n<g id=\"edge9\" class=\"edge\">\n<title>BVH&#45;&gt;PS</title>\n<path fill=\"none\" stroke=\"black\" d=\"M277.3,-368.86C269.19,-355.1 257.06,-334.54 244.35,-312.98\"/>\n<polygon fill=\"black\" stroke=\"black\" points=\"247.35,-311.2 239.26,-304.36 241.33,-314.75 247.35,-311.2\"/>\n<text text-anchor=\"middle\" x=\"301.34\" y=\"-339.68\" font-family=\"Times,serif\" font-size=\"14.00\">Apply Suffix</text>\n</g>\n<!-- END -->\n<g id=\"node8\" class=\"node\">\n<title>END</title>\n<ellipse fill=\"none\" stroke=\"black\" cx=\"188.34\" cy=\"-32.6\" rx=\"28.68\" ry=\"28.68\"/>\n<ellipse fill=\"none\" stroke=\"black\" cx=\"188.34\" cy=\"-32.6\" rx=\"32.7\" ry=\"32.7\"/>\n<text text-anchor=\"middle\" x=\"188.34\" y=\"-28.9\" font-family=\"Times,serif\" font-size=\"14.00\">END</text>\n</g>\n<!-- PS&#45;&gt;END -->\n<g id=\"edge10\" class=\"edge\">\n<title>PS&#45;&gt;END</title>\n<path fill=\"none\" stroke=\"black\" d=\"M188.34,-116.01C188.34,-101.76 188.34,-87.8 188.34,-75.54\"/>\n<polygon fill=\"black\" stroke=\"black\" points=\"191.84,-75.23 188.34,-65.23 184.84,-75.23 191.84,-75.23\"/>\n<text text-anchor=\"middle\" x=\"205.84\" y=\"-86.99\" font-family=\"Times,serif\" font-size=\"14.00\">[EOS]</text>\n</g>\n<!-- note -->\n<g id=\"node9\" class=\"node\">\n<title>note</title>\n<text text-anchor=\"middle\" x=\"378.34\" y=\"-644.18\" font-family=\"Times,serif\" font-size=\"14.00\">Note: Suffixes vary based on person and plurality</text>\n</g>\n</g>\n</svg>\n",
            "text/plain": [
              "<graphviz.sources.Source at 0x7eb3c62b32b0>"
            ]
          },
          "metadata": {},
          "execution_count": 74
        }
      ]
    }
  ]
}
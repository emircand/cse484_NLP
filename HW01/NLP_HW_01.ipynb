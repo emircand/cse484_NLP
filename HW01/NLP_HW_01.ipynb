{
  "nbformat": 4,
  "nbformat_minor": 0,
  "metadata": {
    "colab": {
      "provenance": []
    },
    "kernelspec": {
      "name": "python3",
      "display_name": "Python 3"
    },
    "language_info": {
      "name": "python"
    }
  },
  "cells": [
    {
      "cell_type": "code",
      "execution_count": 8,
      "metadata": {
        "colab": {
          "base_uri": "https://localhost:8080/"
        },
        "id": "cDO6S7GhhQYZ",
        "outputId": "68c2c129-0693-446c-b34a-baf4c4b59c26"
      },
      "outputs": [
        {
          "output_type": "stream",
          "name": "stdout",
          "text": [
            "Reading package lists... Done\n",
            "Building dependency tree... Done\n",
            "Reading state information... Done\n",
            "graphviz is already the newest version (2.42.2-6).\n",
            "0 upgraded, 0 newly installed, 0 to remove and 9 not upgraded.\n",
            "Requirement already satisfied: graphviz in /usr/local/lib/python3.10/dist-packages (0.20.1)\n"
          ]
        }
      ],
      "source": [
        "!apt-get install graphviz -y\n",
        "!pip install graphviz"
      ]
    },
    {
      "cell_type": "code",
      "source": [
        "import graphviz\n",
        "from IPython.display import Image"
      ],
      "metadata": {
        "id": "6vcvCuFiLynV"
      },
      "execution_count": 31,
      "outputs": []
    },
    {
      "cell_type": "code",
      "source": [
        "def create_plural_fst():\n",
        "  # Create a directed graph using Graphviz\n",
        "  fst = graphviz.Digraph('FST', format='png')\n",
        "\n",
        "  # Define attributes for the graph, nodes, and edges\n",
        "  fst.attr('node', shape='circle')\n",
        "\n",
        "  # Add states to the FST\n",
        "  fst.node('0', 'Nominal Root', shape='ellipse')\n",
        "  fst.node('1', 'Last Vowel is [e, i, ö, ü]', shape='ellipse')\n",
        "  fst.node('2', 'Last Vowel is [a, ı, o, u]', shape='ellipse')\n",
        "  fst.node('3', '+ler', shape='doublecircle')\n",
        "  fst.node('4', '+lar', shape='doublecircle')\n",
        "  fst.node('5', 'END', shape='doublecircle')\n",
        "\n",
        "  # Add transitions to the FST\n",
        "  fst.edge('0', '1', label='Front Vowel\\n(e, i, ö, ü)')\n",
        "  fst.edge('0', '2', label='Back Vowel\\n(a, ı, o, u)')\n",
        "  fst.edge('1', '3', label='Transition to \"ler\"')\n",
        "  fst.edge('2', '4', label='Transition to \"lar\"')\n",
        "  fst.edge('3', '5', label='[EOS]')\n",
        "  fst.edge('4', '5', label='[EOS]')\n",
        "\n",
        "  return fst"
      ],
      "metadata": {
        "id": "NaEXFttAB64Z"
      },
      "execution_count": 42,
      "outputs": []
    },
    {
      "cell_type": "code",
      "source": [
        "# Function to create a basic FST for possessive suffix in Turkish\n",
        "def create_possessive_fst():\n",
        "    g = graphviz.Digraph('FST')\n",
        "\n",
        "     # Define states\n",
        "    g.node('0', 'Nominal Root', shape='ellipse')\n",
        "    g.node('V', 'Ends with Vowel', shape='ellipse')\n",
        "    g.node('C', 'Ends with Consonant', shape='ellipse')\n",
        "    g.node('S', 'Softening Applied', shape='ellipse')  # State for consonant softening\n",
        "    g.node('1', 'Front Vowel Harmony', shape='ellipse')\n",
        "    g.node('2', 'Back Vowel Harmony', shape='ellipse')\n",
        "    g.node('3', '+Hm', shape='doublecircle')\n",
        "    g.node('4', '+Hn', shape='doublecircle')\n",
        "    g.node('5', '+H/sH', shape='doublecircle')\n",
        "    g.node('6', '+mHz', shape='doublecircle')\n",
        "    g.node('7', '+nHz', shape='doublecircle')\n",
        "    g.node('8', '+lArH', shape='doublecircle')\n",
        "    g.node('9', 'END', shape='doublecircle')\n",
        "\n",
        "    # Define transitions\n",
        "    g.edge('0', 'V', label='Ends in Vowel')\n",
        "    g.edge('0', 'C', label='Ends in Consonant')\n",
        "    g.edge('C', 'S', label='Softening (k->ğ, p->b, ç->c, t->d)')\n",
        "    g.edge('S', '1', label='Front Vowel\\n(e, i, ö, ü)')\n",
        "    g.edge('S', '2', label='Back Vowel\\n(a, ı, o, u)')\n",
        "    g.edge('V', '1', label='Front Vowel\\n(e, i, ö, ü)')\n",
        "    g.edge('V', '2', label='Back Vowel\\n(a, ı, o, u)')\n",
        "    g.edge('1', '3', label='Hm')\n",
        "    g.edge('2', '3', label='Hm')\n",
        "    g.edge('1', '4', label='Hn')\n",
        "    g.edge('2', '4', label='Hn')\n",
        "    g.edge('1', '5', label='sH')\n",
        "    g.edge('2', '5', label='H')\n",
        "    g.edge('1', '6', label='mHz')\n",
        "    g.edge('2', '6', label='HmHz')\n",
        "    g.edge('1', '7', label='nHz')\n",
        "    g.edge('2', '7', label='HnHz')\n",
        "    g.edge('1', '8', label='lArH')\n",
        "    g.edge('2', '8', label='lArH')\n",
        "    g.edge('3', '9', label='[EOS]')\n",
        "    g.edge('4', '9', label='[EOS]')\n",
        "    g.edge('5', '9', label='[EOS]')\n",
        "    g.edge('6', '9', label='[EOS]')\n",
        "    g.edge('7', '9', label='[EOS]')\n",
        "    g.edge('8', '9', label='[EOS]')\n",
        "\n",
        "    return g"
      ],
      "metadata": {
        "id": "yYZ8GTErCrzn"
      },
      "execution_count": 82,
      "outputs": []
    },
    {
      "cell_type": "code",
      "source": [
        "# Create and display the FSTs\n",
        "plural_fst = create_plural_fst()\n",
        "possessive_fst = create_possessive_fst()"
      ],
      "metadata": {
        "id": "6zqJ9SfOyZ1v"
      },
      "execution_count": 83,
      "outputs": []
    },
    {
      "cell_type": "code",
      "source": [
        "# Display FST of the plural suffix rule\n",
        "graphviz.Source(plural_fst.source)"
      ],
      "metadata": {
        "colab": {
          "base_uri": "https://localhost:8080/",
          "height": 517
        },
        "id": "dkoSMEy-z66_",
        "outputId": "a02841b5-bb93-495c-d8eb-88795645d455"
      },
      "execution_count": 44,
      "outputs": [
        {
          "output_type": "execute_result",
          "data": {
            "image/svg+xml": "<?xml version=\"1.0\" encoding=\"UTF-8\" standalone=\"no\"?>\n<!DOCTYPE svg PUBLIC \"-//W3C//DTD SVG 1.1//EN\"\n \"http://www.w3.org/Graphics/SVG/1.1/DTD/svg11.dtd\">\n<!-- Generated by graphviz version 2.43.0 (0)\n -->\n<!-- Title: FST Pages: 1 -->\n<svg width=\"414pt\" height=\"372pt\"\n viewBox=\"0.00 0.00 413.68 371.89\" xmlns=\"http://www.w3.org/2000/svg\" xmlns:xlink=\"http://www.w3.org/1999/xlink\">\n<g id=\"graph0\" class=\"graph\" transform=\"scale(1 1) rotate(0) translate(4 367.89)\">\n<title>FST</title>\n<polygon fill=\"white\" stroke=\"transparent\" points=\"-4,4 -4,-367.89 409.68,-367.89 409.68,4 -4,4\"/>\n<!-- 0 -->\n<g id=\"node1\" class=\"node\">\n<title>0</title>\n<ellipse fill=\"none\" stroke=\"black\" cx=\"202.84\" cy=\"-345.89\" rx=\"61.99\" ry=\"18\"/>\n<text text-anchor=\"middle\" x=\"202.84\" y=\"-342.19\" font-family=\"Times,serif\" font-size=\"14.00\">Nominal Root</text>\n</g>\n<!-- 1 -->\n<g id=\"node2\" class=\"node\">\n<title>1</title>\n<ellipse fill=\"none\" stroke=\"black\" cx=\"96.84\" cy=\"-243.89\" rx=\"96.68\" ry=\"18\"/>\n<text text-anchor=\"middle\" x=\"96.84\" y=\"-240.19\" font-family=\"Times,serif\" font-size=\"14.00\">Last Vowel is [e, i, ö, ü]</text>\n</g>\n<!-- 0&#45;&gt;1 -->\n<g id=\"edge1\" class=\"edge\">\n<title>0&#45;&gt;1</title>\n<path fill=\"none\" stroke=\"black\" d=\"M185.34,-328.38C168.1,-312.12 141.6,-287.12 122.09,-268.71\"/>\n<polygon fill=\"black\" stroke=\"black\" points=\"124.4,-266.08 114.73,-261.76 119.6,-271.17 124.4,-266.08\"/>\n<text text-anchor=\"middle\" x=\"199.34\" y=\"-298.69\" font-family=\"Times,serif\" font-size=\"14.00\">Front Vowel</text>\n<text text-anchor=\"middle\" x=\"199.34\" y=\"-283.69\" font-family=\"Times,serif\" font-size=\"14.00\">(e, i, ö, ü)</text>\n</g>\n<!-- 2 -->\n<g id=\"node3\" class=\"node\">\n<title>2</title>\n<ellipse fill=\"none\" stroke=\"black\" cx=\"308.84\" cy=\"-243.89\" rx=\"96.68\" ry=\"18\"/>\n<text text-anchor=\"middle\" x=\"308.84\" y=\"-240.19\" font-family=\"Times,serif\" font-size=\"14.00\">Last Vowel is [a, ı, o, u]</text>\n</g>\n<!-- 0&#45;&gt;2 -->\n<g id=\"edge2\" class=\"edge\">\n<title>0&#45;&gt;2</title>\n<path fill=\"none\" stroke=\"black\" d=\"M220.35,-328.38C237.58,-312.12 264.08,-287.12 283.59,-268.71\"/>\n<polygon fill=\"black\" stroke=\"black\" points=\"286.09,-271.17 290.96,-261.76 281.28,-266.08 286.09,-271.17\"/>\n<text text-anchor=\"middle\" x=\"304.84\" y=\"-298.69\" font-family=\"Times,serif\" font-size=\"14.00\">Back Vowel</text>\n<text text-anchor=\"middle\" x=\"304.84\" y=\"-283.69\" font-family=\"Times,serif\" font-size=\"14.00\">(a, ı, o, u)</text>\n</g>\n<!-- 3 -->\n<g id=\"node4\" class=\"node\">\n<title>3</title>\n<ellipse fill=\"none\" stroke=\"black\" cx=\"163.84\" cy=\"-145.54\" rx=\"25.22\" ry=\"25.22\"/>\n<ellipse fill=\"none\" stroke=\"black\" cx=\"163.84\" cy=\"-145.54\" rx=\"29.2\" ry=\"29.2\"/>\n<text text-anchor=\"middle\" x=\"163.84\" y=\"-141.84\" font-family=\"Times,serif\" font-size=\"14.00\">+ler</text>\n</g>\n<!-- 1&#45;&gt;3 -->\n<g id=\"edge3\" class=\"edge\">\n<title>1&#45;&gt;3</title>\n<path fill=\"none\" stroke=\"black\" d=\"M108.82,-225.67C117.9,-212.6 130.65,-194.28 141.58,-178.55\"/>\n<polygon fill=\"black\" stroke=\"black\" points=\"144.6,-180.34 147.44,-170.13 138.85,-176.34 144.6,-180.34\"/>\n<text text-anchor=\"middle\" x=\"180.84\" y=\"-196.69\" font-family=\"Times,serif\" font-size=\"14.00\">Transition to &quot;ler&quot;</text>\n</g>\n<!-- 4 -->\n<g id=\"node5\" class=\"node\">\n<title>4</title>\n<ellipse fill=\"none\" stroke=\"black\" cx=\"262.84\" cy=\"-145.54\" rx=\"25.22\" ry=\"25.22\"/>\n<ellipse fill=\"none\" stroke=\"black\" cx=\"262.84\" cy=\"-145.54\" rx=\"29.2\" ry=\"29.2\"/>\n<text text-anchor=\"middle\" x=\"262.84\" y=\"-141.84\" font-family=\"Times,serif\" font-size=\"14.00\">+lar</text>\n</g>\n<!-- 2&#45;&gt;4 -->\n<g id=\"edge4\" class=\"edge\">\n<title>2&#45;&gt;4</title>\n<path fill=\"none\" stroke=\"black\" d=\"M300.62,-225.67C294.75,-213.38 286.67,-196.45 279.48,-181.4\"/>\n<polygon fill=\"black\" stroke=\"black\" points=\"282.62,-179.84 275.15,-172.32 276.3,-182.86 282.62,-179.84\"/>\n<text text-anchor=\"middle\" x=\"341.84\" y=\"-196.69\" font-family=\"Times,serif\" font-size=\"14.00\">Transition to &quot;lar&quot;</text>\n</g>\n<!-- 5 -->\n<g id=\"node6\" class=\"node\">\n<title>5</title>\n<ellipse fill=\"none\" stroke=\"black\" cx=\"201.84\" cy=\"-32.6\" rx=\"28.68\" ry=\"28.68\"/>\n<ellipse fill=\"none\" stroke=\"black\" cx=\"201.84\" cy=\"-32.6\" rx=\"32.7\" ry=\"32.7\"/>\n<text text-anchor=\"middle\" x=\"201.84\" y=\"-28.9\" font-family=\"Times,serif\" font-size=\"14.00\">END</text>\n</g>\n<!-- 3&#45;&gt;5 -->\n<g id=\"edge5\" class=\"edge\">\n<title>3&#45;&gt;5</title>\n<path fill=\"none\" stroke=\"black\" d=\"M173.14,-117.4C177.67,-104.16 183.21,-87.98 188.22,-73.38\"/>\n<polygon fill=\"black\" stroke=\"black\" points=\"191.64,-74.17 191.57,-63.58 185.02,-71.9 191.64,-74.17\"/>\n<text text-anchor=\"middle\" x=\"202.34\" y=\"-86.99\" font-family=\"Times,serif\" font-size=\"14.00\">[EOS]</text>\n</g>\n<!-- 4&#45;&gt;5 -->\n<g id=\"edge6\" class=\"edge\">\n<title>4&#45;&gt;5</title>\n<path fill=\"none\" stroke=\"black\" d=\"M249,-119.37C241.07,-104.94 230.96,-86.56 222.14,-70.52\"/>\n<polygon fill=\"black\" stroke=\"black\" points=\"225.01,-68.48 217.13,-61.4 218.88,-71.85 225.01,-68.48\"/>\n<text text-anchor=\"middle\" x=\"254.34\" y=\"-86.99\" font-family=\"Times,serif\" font-size=\"14.00\">[EOS]</text>\n</g>\n</g>\n</svg>\n",
            "text/plain": [
              "<graphviz.sources.Source at 0x7eb3e307ece0>"
            ]
          },
          "metadata": {},
          "execution_count": 44
        }
      ]
    },
    {
      "cell_type": "code",
      "source": [
        "# Display FST of the possessive suffix rule\n",
        "graphviz.Source(possessive_fst.source)"
      ],
      "metadata": {
        "colab": {
          "base_uri": "https://localhost:8080/",
          "height": 773
        },
        "id": "Y8fUkVljz_tB",
        "outputId": "614340fc-06c3-4e24-9c2d-e57b7ef5e72f"
      },
      "execution_count": 84,
      "outputs": [
        {
          "output_type": "execute_result",
          "data": {
            "image/svg+xml": "<?xml version=\"1.0\" encoding=\"UTF-8\" standalone=\"no\"?>\n<!DOCTYPE svg PUBLIC \"-//W3C//DTD SVG 1.1//EN\"\n \"http://www.w3.org/Graphics/SVG/1.1/DTD/svg11.dtd\">\n<!-- Generated by graphviz version 2.43.0 (0)\n -->\n<!-- Title: FST Pages: 1 -->\n<svg width=\"540pt\" height=\"564pt\"\n viewBox=\"0.00 0.00 539.90 564.09\" xmlns=\"http://www.w3.org/2000/svg\" xmlns:xlink=\"http://www.w3.org/1999/xlink\">\n<g id=\"graph0\" class=\"graph\" transform=\"scale(1 1) rotate(0) translate(4 560.09)\">\n<title>FST</title>\n<polygon fill=\"white\" stroke=\"transparent\" points=\"-4,4 -4,-560.09 535.9,-560.09 535.9,4 -4,4\"/>\n<!-- 0 -->\n<g id=\"node1\" class=\"node\">\n<title>0</title>\n<ellipse fill=\"none\" stroke=\"black\" cx=\"213.9\" cy=\"-538.09\" rx=\"61.99\" ry=\"18\"/>\n<text text-anchor=\"middle\" x=\"213.9\" y=\"-534.39\" font-family=\"Times,serif\" font-size=\"14.00\">Nominal Root</text>\n</g>\n<!-- V -->\n<g id=\"node2\" class=\"node\">\n<title>V</title>\n<ellipse fill=\"none\" stroke=\"black\" cx=\"159.9\" cy=\"-364.09\" rx=\"70.69\" ry=\"18\"/>\n<text text-anchor=\"middle\" x=\"159.9\" y=\"-360.39\" font-family=\"Times,serif\" font-size=\"14.00\">Ends with Vowel</text>\n</g>\n<!-- 0&#45;&gt;V -->\n<g id=\"edge1\" class=\"edge\">\n<title>0&#45;&gt;V</title>\n<path fill=\"none\" stroke=\"black\" d=\"M199.45,-520.48C189.01,-507.45 175.61,-488.34 168.9,-469.09 160.17,-444.06 158.48,-413.67 158.63,-392.23\"/>\n<polygon fill=\"black\" stroke=\"black\" points=\"162.13,-392.26 158.84,-382.19 155.13,-392.12 162.13,-392.26\"/>\n<text text-anchor=\"middle\" x=\"208.4\" y=\"-447.39\" font-family=\"Times,serif\" font-size=\"14.00\">Ends in Vowel</text>\n</g>\n<!-- C -->\n<g id=\"node3\" class=\"node\">\n<title>C</title>\n<ellipse fill=\"none\" stroke=\"black\" cx=\"342.9\" cy=\"-451.09\" rx=\"86.38\" ry=\"18\"/>\n<text text-anchor=\"middle\" x=\"342.9\" y=\"-447.39\" font-family=\"Times,serif\" font-size=\"14.00\">Ends with Consonant</text>\n</g>\n<!-- 0&#45;&gt;C -->\n<g id=\"edge2\" class=\"edge\">\n<title>0&#45;&gt;C</title>\n<path fill=\"none\" stroke=\"black\" d=\"M237.86,-521.3C258.06,-507.99 287.17,-488.81 309.63,-474.01\"/>\n<polygon fill=\"black\" stroke=\"black\" points=\"311.76,-476.8 318.19,-468.37 307.91,-470.95 311.76,-476.8\"/>\n<text text-anchor=\"middle\" x=\"337.4\" y=\"-490.89\" font-family=\"Times,serif\" font-size=\"14.00\">Ends in Consonant</text>\n</g>\n<!-- 1 -->\n<g id=\"node5\" class=\"node\">\n<title>1</title>\n<ellipse fill=\"none\" stroke=\"black\" cx=\"152.9\" cy=\"-262.09\" rx=\"90.18\" ry=\"18\"/>\n<text text-anchor=\"middle\" x=\"152.9\" y=\"-258.39\" font-family=\"Times,serif\" font-size=\"14.00\">Front Vowel Harmony</text>\n</g>\n<!-- V&#45;&gt;1 -->\n<g id=\"edge6\" class=\"edge\">\n<title>V&#45;&gt;1</title>\n<path fill=\"none\" stroke=\"black\" d=\"M133.51,-347.06C127.24,-341.86 121.36,-335.48 117.9,-328.09 112.24,-316.01 112.79,-310.41 117.9,-298.09 119.44,-294.35 121.6,-290.81 124.1,-287.52\"/>\n<polygon fill=\"black\" stroke=\"black\" points=\"126.86,-289.68 130.83,-279.86 121.6,-285.06 126.86,-289.68\"/>\n<text text-anchor=\"middle\" x=\"151.4\" y=\"-316.89\" font-family=\"Times,serif\" font-size=\"14.00\">Front Vowel</text>\n<text text-anchor=\"middle\" x=\"151.4\" y=\"-301.89\" font-family=\"Times,serif\" font-size=\"14.00\">(e, i, ö, ü)</text>\n</g>\n<!-- 2 -->\n<g id=\"node6\" class=\"node\">\n<title>2</title>\n<ellipse fill=\"none\" stroke=\"black\" cx=\"356.9\" cy=\"-262.09\" rx=\"89.08\" ry=\"18\"/>\n<text text-anchor=\"middle\" x=\"356.9\" y=\"-258.39\" font-family=\"Times,serif\" font-size=\"14.00\">Back Vowel Harmony</text>\n</g>\n<!-- V&#45;&gt;2 -->\n<g id=\"edge7\" class=\"edge\">\n<title>V&#45;&gt;2</title>\n<path fill=\"none\" stroke=\"black\" d=\"M172.3,-346.13C176.38,-340.44 180.89,-334.04 184.9,-328.09 193.71,-315 191.01,-307.2 203.9,-298.09 216.39,-289.25 247.39,-281.43 278.24,-275.43\"/>\n<polygon fill=\"black\" stroke=\"black\" points=\"279.04,-278.84 288.22,-273.55 277.75,-271.97 279.04,-278.84\"/>\n<text text-anchor=\"middle\" x=\"236.9\" y=\"-316.89\" font-family=\"Times,serif\" font-size=\"14.00\">Back Vowel</text>\n<text text-anchor=\"middle\" x=\"236.9\" y=\"-301.89\" font-family=\"Times,serif\" font-size=\"14.00\">(a, ı, o, u)</text>\n</g>\n<!-- S -->\n<g id=\"node4\" class=\"node\">\n<title>S</title>\n<ellipse fill=\"none\" stroke=\"black\" cx=\"342.9\" cy=\"-364.09\" rx=\"75.29\" ry=\"18\"/>\n<text text-anchor=\"middle\" x=\"342.9\" y=\"-360.39\" font-family=\"Times,serif\" font-size=\"14.00\">Softening Applied</text>\n</g>\n<!-- C&#45;&gt;S -->\n<g id=\"edge3\" class=\"edge\">\n<title>C&#45;&gt;S</title>\n<path fill=\"none\" stroke=\"black\" d=\"M342.9,-432.89C342.9,-421.25 342.9,-405.64 342.9,-392.33\"/>\n<polygon fill=\"black\" stroke=\"black\" points=\"346.4,-392.26 342.9,-382.26 339.4,-392.26 346.4,-392.26\"/>\n<text text-anchor=\"middle\" x=\"437.4\" y=\"-403.89\" font-family=\"Times,serif\" font-size=\"14.00\">Softening (k&#45;&gt;ğ, p&#45;&gt;b, ç&#45;&gt;c, t&#45;&gt;d)</text>\n</g>\n<!-- S&#45;&gt;1 -->\n<g id=\"edge4\" class=\"edge\">\n<title>S&#45;&gt;1</title>\n<path fill=\"none\" stroke=\"black\" d=\"M315.92,-347.08C307.98,-341.64 299.63,-335.14 292.9,-328.09 282,-316.67 286.52,-307.56 273.9,-298.09 261.49,-288.77 246.66,-281.93 231.71,-276.91\"/>\n<polygon fill=\"black\" stroke=\"black\" points=\"232.48,-273.49 221.89,-273.87 230.41,-280.17 232.48,-273.49\"/>\n<text text-anchor=\"middle\" x=\"326.4\" y=\"-316.89\" font-family=\"Times,serif\" font-size=\"14.00\">Front Vowel</text>\n<text text-anchor=\"middle\" x=\"326.4\" y=\"-301.89\" font-family=\"Times,serif\" font-size=\"14.00\">(e, i, ö, ü)</text>\n</g>\n<!-- S&#45;&gt;2 -->\n<g id=\"edge5\" class=\"edge\">\n<title>S&#45;&gt;2</title>\n<path fill=\"none\" stroke=\"black\" d=\"M355.57,-346.14C358.96,-340.66 362.16,-334.37 363.9,-328.09 367.26,-315.95 366.39,-302.11 364.33,-290.33\"/>\n<polygon fill=\"black\" stroke=\"black\" points=\"367.68,-289.27 362.18,-280.21 360.83,-290.72 367.68,-289.27\"/>\n<text text-anchor=\"middle\" x=\"398.9\" y=\"-316.89\" font-family=\"Times,serif\" font-size=\"14.00\">Back Vowel</text>\n<text text-anchor=\"middle\" x=\"398.9\" y=\"-301.89\" font-family=\"Times,serif\" font-size=\"14.00\">(a, ı, o, u)</text>\n</g>\n<!-- 3 -->\n<g id=\"node7\" class=\"node\">\n<title>3</title>\n<ellipse fill=\"none\" stroke=\"black\" cx=\"33.9\" cy=\"-154.64\" rx=\"29.81\" ry=\"29.81\"/>\n<ellipse fill=\"none\" stroke=\"black\" cx=\"33.9\" cy=\"-154.64\" rx=\"33.8\" ry=\"33.8\"/>\n<text text-anchor=\"middle\" x=\"33.9\" y=\"-150.94\" font-family=\"Times,serif\" font-size=\"14.00\">+Hm</text>\n</g>\n<!-- 1&#45;&gt;3 -->\n<g id=\"edge8\" class=\"edge\">\n<title>1&#45;&gt;3</title>\n<path fill=\"none\" stroke=\"black\" d=\"M83.36,-250.54C55.98,-244.84 29.1,-236.75 20.9,-226.09 14.1,-217.26 13.66,-205.98 15.95,-195.05\"/>\n<polygon fill=\"black\" stroke=\"black\" points=\"19.38,-195.77 18.71,-185.19 12.64,-193.88 19.38,-195.77\"/>\n<text text-anchor=\"middle\" x=\"31.9\" y=\"-214.89\" font-family=\"Times,serif\" font-size=\"14.00\">Hm</text>\n</g>\n<!-- 4 -->\n<g id=\"node8\" class=\"node\">\n<title>4</title>\n<ellipse fill=\"none\" stroke=\"black\" cx=\"202.9\" cy=\"-154.64\" rx=\"26.78\" ry=\"26.78\"/>\n<ellipse fill=\"none\" stroke=\"black\" cx=\"202.9\" cy=\"-154.64\" rx=\"30.8\" ry=\"30.8\"/>\n<text text-anchor=\"middle\" x=\"202.9\" y=\"-150.94\" font-family=\"Times,serif\" font-size=\"14.00\">+Hn</text>\n</g>\n<!-- 1&#45;&gt;4 -->\n<g id=\"edge10\" class=\"edge\">\n<title>1&#45;&gt;4</title>\n<path fill=\"none\" stroke=\"black\" d=\"M142.55,-243.79C138.01,-233.86 134.76,-221.36 139.9,-211.09 145.86,-199.16 153.74,-201.72 163.9,-193.09 167.29,-190.21 170.76,-187.11 174.17,-183.97\"/>\n<polygon fill=\"black\" stroke=\"black\" points=\"176.58,-186.51 181.47,-177.12 171.78,-181.41 176.58,-186.51\"/>\n<text text-anchor=\"middle\" x=\"148.4\" y=\"-214.89\" font-family=\"Times,serif\" font-size=\"14.00\">Hn</text>\n</g>\n<!-- 5 -->\n<g id=\"node9\" class=\"node\">\n<title>5</title>\n<ellipse fill=\"none\" stroke=\"black\" cx=\"289.9\" cy=\"-154.64\" rx=\"34.4\" ry=\"34.4\"/>\n<ellipse fill=\"none\" stroke=\"black\" cx=\"289.9\" cy=\"-154.64\" rx=\"38.39\" ry=\"38.39\"/>\n<text text-anchor=\"middle\" x=\"289.9\" y=\"-150.94\" font-family=\"Times,serif\" font-size=\"14.00\">+H/sH</text>\n</g>\n<!-- 1&#45;&gt;5 -->\n<g id=\"edge12\" class=\"edge\">\n<title>1&#45;&gt;5</title>\n<path fill=\"none\" stroke=\"black\" d=\"M183.29,-245.03C193.03,-239.45 203.67,-232.88 212.9,-226.09 227.78,-215.13 243.02,-201.73 255.98,-189.56\"/>\n<polygon fill=\"black\" stroke=\"black\" points=\"258.5,-192 263.32,-182.57 253.67,-186.93 258.5,-192\"/>\n<text text-anchor=\"middle\" x=\"238.9\" y=\"-214.89\" font-family=\"Times,serif\" font-size=\"14.00\">sH</text>\n</g>\n<!-- 6 -->\n<g id=\"node10\" class=\"node\">\n<title>6</title>\n<ellipse fill=\"none\" stroke=\"black\" cx=\"383.9\" cy=\"-154.64\" rx=\"33.62\" ry=\"33.62\"/>\n<ellipse fill=\"none\" stroke=\"black\" cx=\"383.9\" cy=\"-154.64\" rx=\"37.6\" ry=\"37.6\"/>\n<text text-anchor=\"middle\" x=\"383.9\" y=\"-150.94\" font-family=\"Times,serif\" font-size=\"14.00\">+mHz</text>\n</g>\n<!-- 1&#45;&gt;6 -->\n<g id=\"edge14\" class=\"edge\">\n<title>1&#45;&gt;6</title>\n<path fill=\"none\" stroke=\"black\" d=\"M220.32,-250.1C243.74,-244.75 269.68,-237.03 291.9,-226.09 301.55,-221.34 302.25,-217.49 310.9,-211.09 322.2,-202.73 325.62,-201.47 336.9,-193.09 340.24,-190.6 343.69,-187.98 347.12,-185.33\"/>\n<polygon fill=\"black\" stroke=\"black\" points=\"349.33,-188.04 355.05,-179.12 345.02,-182.53 349.33,-188.04\"/>\n<text text-anchor=\"middle\" x=\"324.9\" y=\"-214.89\" font-family=\"Times,serif\" font-size=\"14.00\">mHz</text>\n</g>\n<!-- 7 -->\n<g id=\"node11\" class=\"node\">\n<title>7</title>\n<ellipse fill=\"none\" stroke=\"black\" cx=\"119.9\" cy=\"-154.64\" rx=\"30.59\" ry=\"30.59\"/>\n<ellipse fill=\"none\" stroke=\"black\" cx=\"119.9\" cy=\"-154.64\" rx=\"34.59\" ry=\"34.59\"/>\n<text text-anchor=\"middle\" x=\"119.9\" y=\"-150.94\" font-family=\"Times,serif\" font-size=\"14.00\">+nHz</text>\n</g>\n<!-- 1&#45;&gt;7 -->\n<g id=\"edge16\" class=\"edge\">\n<title>1&#45;&gt;7</title>\n<path fill=\"none\" stroke=\"black\" d=\"M82.68,-250.64C69.45,-245.4 57.18,-237.61 48.9,-226.09 45.01,-220.67 45.7,-216.94 48.9,-211.09 55.99,-198.1 65.07,-201.97 76.9,-193.09 80.1,-190.68 83.37,-188.1 86.59,-185.46\"/>\n<polygon fill=\"black\" stroke=\"black\" points=\"89.07,-187.95 94.48,-178.84 84.57,-182.59 89.07,-187.95\"/>\n<text text-anchor=\"middle\" x=\"60.4\" y=\"-214.89\" font-family=\"Times,serif\" font-size=\"14.00\">nHz</text>\n</g>\n<!-- 8 -->\n<g id=\"node12\" class=\"node\">\n<title>8</title>\n<ellipse fill=\"none\" stroke=\"black\" cx=\"477.9\" cy=\"-154.64\" rx=\"34.4\" ry=\"34.4\"/>\n<ellipse fill=\"none\" stroke=\"black\" cx=\"477.9\" cy=\"-154.64\" rx=\"38.39\" ry=\"38.39\"/>\n<text text-anchor=\"middle\" x=\"477.9\" y=\"-150.94\" font-family=\"Times,serif\" font-size=\"14.00\">+lArH</text>\n</g>\n<!-- 1&#45;&gt;8 -->\n<g id=\"edge18\" class=\"edge\">\n<title>1&#45;&gt;8</title>\n<path fill=\"none\" stroke=\"black\" d=\"M221.13,-250.2C279.8,-240.76 356.04,-228.27 362.9,-226.09 366.9,-224.81 427.34,-195.33 430.9,-193.09 434.23,-190.99 437.6,-188.7 440.92,-186.31\"/>\n<polygon fill=\"black\" stroke=\"black\" points=\"443.13,-189.03 449.05,-180.25 438.94,-183.42 443.13,-189.03\"/>\n<text text-anchor=\"middle\" x=\"406.9\" y=\"-214.89\" font-family=\"Times,serif\" font-size=\"14.00\">lArH</text>\n</g>\n<!-- 2&#45;&gt;3 -->\n<g id=\"edge9\" class=\"edge\">\n<title>2&#45;&gt;3</title>\n<path fill=\"none\" stroke=\"black\" d=\"M290.57,-250.01C277.75,-247.97 264.42,-245.91 251.9,-244.09 189.81,-235.07 168.89,-252.31 111.9,-226.09 93.16,-217.47 75.75,-202.72 62.16,-188.94\"/>\n<polygon fill=\"black\" stroke=\"black\" points=\"64.45,-186.26 55.02,-181.43 59.38,-191.09 64.45,-186.26\"/>\n<text text-anchor=\"middle\" x=\"122.9\" y=\"-214.89\" font-family=\"Times,serif\" font-size=\"14.00\">Hm</text>\n</g>\n<!-- 2&#45;&gt;4 -->\n<g id=\"edge11\" class=\"edge\">\n<title>2&#45;&gt;4</title>\n<path fill=\"none\" stroke=\"black\" d=\"M313.64,-246.14C300.66,-240.74 286.74,-234 274.9,-226.09 258.24,-214.96 242.08,-199.69 229.3,-186.21\"/>\n<polygon fill=\"black\" stroke=\"black\" points=\"231.55,-183.49 222.19,-178.53 226.41,-188.25 231.55,-183.49\"/>\n<text text-anchor=\"middle\" x=\"283.4\" y=\"-214.89\" font-family=\"Times,serif\" font-size=\"14.00\">Hn</text>\n</g>\n<!-- 2&#45;&gt;5 -->\n<g id=\"edge13\" class=\"edge\">\n<title>2&#45;&gt;5</title>\n<path fill=\"none\" stroke=\"black\" d=\"M354.28,-244.07C352.22,-234.01 348.7,-221.27 342.9,-211.09 338.25,-202.93 332.14,-195.06 325.73,-187.94\"/>\n<polygon fill=\"black\" stroke=\"black\" points=\"328.13,-185.38 318.71,-180.53 323.05,-190.2 328.13,-185.38\"/>\n<text text-anchor=\"middle\" x=\"353.9\" y=\"-214.89\" font-family=\"Times,serif\" font-size=\"14.00\">H</text>\n</g>\n<!-- 2&#45;&gt;6 -->\n<g id=\"edge15\" class=\"edge\">\n<title>2&#45;&gt;6</title>\n<path fill=\"none\" stroke=\"black\" d=\"M403.64,-246.74C412.87,-241.7 421.4,-234.99 426.9,-226.09 434.75,-213.39 429.08,-199.36 419.61,-187.19\"/>\n<polygon fill=\"black\" stroke=\"black\" points=\"422.13,-184.75 412.94,-179.49 416.84,-189.34 422.13,-184.75\"/>\n<text text-anchor=\"middle\" x=\"448.4\" y=\"-214.89\" font-family=\"Times,serif\" font-size=\"14.00\">HmHz</text>\n</g>\n<!-- 2&#45;&gt;7 -->\n<g id=\"edge17\" class=\"edge\">\n<title>2&#45;&gt;7</title>\n<path fill=\"none\" stroke=\"black\" d=\"M288.94,-250.28C241.79,-242.39 185.75,-232.06 175.9,-226.09 162.65,-218.06 151.27,-205.69 142.29,-193.54\"/>\n<polygon fill=\"black\" stroke=\"black\" points=\"145.07,-191.4 136.47,-185.22 139.34,-195.42 145.07,-191.4\"/>\n<text text-anchor=\"middle\" x=\"192.4\" y=\"-214.89\" font-family=\"Times,serif\" font-size=\"14.00\">HnHz</text>\n</g>\n<!-- 2&#45;&gt;8 -->\n<g id=\"edge19\" class=\"edge\">\n<title>2&#45;&gt;8</title>\n<path fill=\"none\" stroke=\"black\" d=\"M430.76,-251.98C446.09,-246.72 460.67,-238.58 470.9,-226.09 476.21,-219.6 479.19,-211.56 480.7,-203.26\"/>\n<polygon fill=\"black\" stroke=\"black\" points=\"484.2,-203.43 481.87,-193.1 477.25,-202.63 484.2,-203.43\"/>\n<text text-anchor=\"middle\" x=\"491.9\" y=\"-214.89\" font-family=\"Times,serif\" font-size=\"14.00\">lArH</text>\n</g>\n<!-- 9 -->\n<g id=\"node13\" class=\"node\">\n<title>9</title>\n<ellipse fill=\"none\" stroke=\"black\" cx=\"245.9\" cy=\"-32.6\" rx=\"28.68\" ry=\"28.68\"/>\n<ellipse fill=\"none\" stroke=\"black\" cx=\"245.9\" cy=\"-32.6\" rx=\"32.7\" ry=\"32.7\"/>\n<text text-anchor=\"middle\" x=\"245.9\" y=\"-28.9\" font-family=\"Times,serif\" font-size=\"14.00\">END</text>\n</g>\n<!-- 3&#45;&gt;9 -->\n<g id=\"edge20\" class=\"edge\">\n<title>3&#45;&gt;9</title>\n<path fill=\"none\" stroke=\"black\" d=\"M58.17,-130.73C63.84,-125.75 69.95,-120.64 75.9,-116.19 116.36,-85.91 169.67,-62.17 205.72,-48.06\"/>\n<polygon fill=\"black\" stroke=\"black\" points=\"207.33,-51.19 215.41,-44.34 204.82,-44.66 207.33,-51.19\"/>\n<text text-anchor=\"middle\" x=\"146.4\" y=\"-86.99\" font-family=\"Times,serif\" font-size=\"14.00\">[EOS]</text>\n</g>\n<!-- 4&#45;&gt;9 -->\n<g id=\"edge21\" class=\"edge\">\n<title>4&#45;&gt;9</title>\n<path fill=\"none\" stroke=\"black\" d=\"M211.15,-124.98C215.04,-112.11 219.91,-96.79 224.9,-83.19 226.2,-79.65 227.61,-75.99 229.07,-72.34\"/>\n<polygon fill=\"black\" stroke=\"black\" points=\"232.43,-73.36 232.98,-62.78 225.95,-70.71 232.43,-73.36\"/>\n<text text-anchor=\"middle\" x=\"242.4\" y=\"-86.99\" font-family=\"Times,serif\" font-size=\"14.00\">[EOS]</text>\n</g>\n<!-- 5&#45;&gt;9 -->\n<g id=\"edge22\" class=\"edge\">\n<title>5&#45;&gt;9</title>\n<path fill=\"none\" stroke=\"black\" d=\"M276.93,-118.27C271.74,-104.11 265.74,-87.74 260.41,-73.18\"/>\n<polygon fill=\"black\" stroke=\"black\" points=\"263.57,-71.63 256.84,-63.44 256.99,-74.04 263.57,-71.63\"/>\n<text text-anchor=\"middle\" x=\"286.4\" y=\"-86.99\" font-family=\"Times,serif\" font-size=\"14.00\">[EOS]</text>\n</g>\n<!-- 6&#45;&gt;9 -->\n<g id=\"edge23\" class=\"edge\">\n<title>6&#45;&gt;9</title>\n<path fill=\"none\" stroke=\"black\" d=\"M356.9,-127.72C342.57,-114.19 324.53,-97.52 307.9,-83.19 298.77,-75.33 288.65,-67.06 279.28,-59.57\"/>\n<polygon fill=\"black\" stroke=\"black\" points=\"281.28,-56.69 271.27,-53.22 276.93,-62.18 281.28,-56.69\"/>\n<text text-anchor=\"middle\" x=\"339.4\" y=\"-86.99\" font-family=\"Times,serif\" font-size=\"14.00\">[EOS]</text>\n</g>\n<!-- 7&#45;&gt;9 -->\n<g id=\"edge24\" class=\"edge\">\n<title>7&#45;&gt;9</title>\n<path fill=\"none\" stroke=\"black\" d=\"M141.17,-127.13C152.65,-113.44 167.41,-96.8 181.9,-83.19 191.1,-74.55 201.73,-65.86 211.65,-58.23\"/>\n<polygon fill=\"black\" stroke=\"black\" points=\"213.9,-60.91 219.76,-52.09 209.67,-55.33 213.9,-60.91\"/>\n<text text-anchor=\"middle\" x=\"199.4\" y=\"-86.99\" font-family=\"Times,serif\" font-size=\"14.00\">[EOS]</text>\n</g>\n<!-- 8&#45;&gt;9 -->\n<g id=\"edge25\" class=\"edge\">\n<title>8&#45;&gt;9</title>\n<path fill=\"none\" stroke=\"black\" d=\"M449.08,-128.98C443.24,-124.47 437.01,-120 430.9,-116.19 384.02,-87.02 325.07,-62.57 286.48,-48.02\"/>\n<polygon fill=\"black\" stroke=\"black\" points=\"287.24,-44.57 276.65,-44.36 284.8,-51.13 287.24,-44.57\"/>\n<text text-anchor=\"middle\" x=\"414.4\" y=\"-86.99\" font-family=\"Times,serif\" font-size=\"14.00\">[EOS]</text>\n</g>\n</g>\n</svg>\n",
            "text/plain": [
              "<graphviz.sources.Source at 0x7eb3e307dab0>"
            ]
          },
          "metadata": {},
          "execution_count": 84
        }
      ]
    }
  ]
}